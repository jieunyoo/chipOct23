{
 "cells": [
  {
   "cell_type": "code",
   "execution_count": 1,
   "id": "e433fb46-39db-44bd-8fcb-bba29cb8603f",
   "metadata": {
    "tags": []
   },
   "outputs": [],
   "source": [
    "directory = '/uscms/home/jieun201/nobackup/YOURWORKINGAREA/chipTestOct23/'\n"
   ]
  },
  {
   "cell_type": "code",
   "execution_count": null,
   "id": "92d136cc-ca22-420f-9d9d-91bbf2d1fc61",
   "metadata": {
    "tags": []
   },
   "outputs": [],
   "source": [
    "#text = ['/uscms/home/jieun201/nobackup/YOURWORKINGAREA/chipDataOct1/CMS_PIX28_OCT12022.csv']\n",
    "#text\n",
    "#text[0][73:-4]  #this gives just the numbers"
   ]
  },
  {
   "cell_type": "code",
   "execution_count": 25,
   "id": "899af2fb-9cb9-4529-b0df-460632544424",
   "metadata": {
    "tags": []
   },
   "outputs": [],
   "source": [
    "import numpy as np\n",
    "import pandas as pd\n",
    "import time\n",
    "import csv\n",
    "from numpy import asarray\n",
    "from numpy import savetxt"
   ]
  },
  {
   "cell_type": "code",
   "execution_count": 26,
   "id": "b8aae594-ca2d-4b96-8055-a48180ab5113",
   "metadata": {
    "tags": []
   },
   "outputs": [
    {
     "data": {
      "text/plain": [
       "2250"
      ]
     },
     "execution_count": 26,
     "metadata": {},
     "output_type": "execute_result"
    }
   ],
   "source": [
    "headerNumbers = np.arange(202,4702,2,dtype=int)\n",
    "headerNumbers\n",
    "len(headerNumbers)"
   ]
  },
  {
   "cell_type": "code",
   "execution_count": 27,
   "id": "f0907198-ed3c-424d-949d-c881ba6d68c3",
   "metadata": {
    "tags": []
   },
   "outputs": [],
   "source": [
    "fpaths = [f'/uscms/home/jieun201/nobackup/YOURWORKINGAREA/chipTestOct23/CMS_PIX28_OCT5{i}.csv' for i in range(202, 4702,2)]\n",
    "\n",
    "for i, f in enumerate(fpaths):\n",
    "    j = 0\n",
    "    ave=np.zeros(1536)\n",
    "    try:\n",
    "        with open(f, 'r') as file:\n",
    "           # print('filepath', fpaths)\n",
    "            fileName = headerNumbers[i]\n",
    "            lines = file.readlines()\n",
    "            for line in lines:\n",
    "                j += 1\n",
    "            # Strip whitespace and newline characters and then split by commas\n",
    "                elements = line.strip().split(',')\n",
    "                #uint8_arr = np.array(elements[3:195], dtype=np.uint8)\n",
    "                uint8_arr = np.array(elements[2:195], dtype=np.uint8)\n",
    "                bits = np.unpackbits(uint8_arr)\n",
    "                bits2 = bits[6:-2]\n",
    "                #print('len bits', len(bits[6:-2]))\n",
    "                ave=ave+bits2/100\n",
    "                file.close()\n",
    "                \n",
    "                if j==100:\n",
    "                    with open('document.csv', 'ab') as f:\n",
    "                        ave2 = asarray([ave])\n",
    "                        ave2.flatten()\n",
    "                        ave3 = np.append(ave2,fileName)\n",
    "                        ave4=asarray([ave3])\n",
    "                        np.savetxt(f, ave4, delimiter=',',fmt='%f')   \n",
    "                        f.close()\n",
    "\n",
    "    except FileNotFoundError:\n",
    "        print(\"not found\")\n",
    "    except Exception as e:\n",
    "        print(str(e))"
   ]
  }
 ],
 "metadata": {
  "kernelspec": {
   "display_name": "Python 3 (ipykernel)",
   "language": "python",
   "name": "py3-preamble"
  },
  "language_info": {
   "codemirror_mode": {
    "name": "ipython",
    "version": 3
   },
   "file_extension": ".py",
   "mimetype": "text/x-python",
   "name": "python",
   "nbconvert_exporter": "python",
   "pygments_lexer": "ipython3",
   "version": "3.9.15"
  }
 },
 "nbformat": 4,
 "nbformat_minor": 5
}
